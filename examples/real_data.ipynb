{
 "cells": [
  {
   "cell_type": "markdown",
   "metadata": {},
   "source": [
    "# Fair Binary Classification with SearchFair on CelebA and Adult\n",
    "\n",
    "Here, we show how to use SearchFair on two datasets: CelebA and Adult"
   ]
  },
  {
   "cell_type": "markdown",
   "metadata": {},
   "source": [
    "## Imports\n",
    "\n",
    "We start by importing SearchFair from the installed package."
   ]
  },
  {
   "cell_type": "code",
   "execution_count": 1,
   "metadata": {},
   "outputs": [],
   "source": [
    "from searchfair import SearchFair"
   ]
  },
  {
   "cell_type": "markdown",
   "metadata": {},
   "source": [
    "Second, we load some necessary methods and numpy."
   ]
  },
  {
   "cell_type": "code",
   "execution_count": 2,
   "metadata": {},
   "outputs": [],
   "source": [
    "from sklearn.model_selection import train_test_split\n",
    "from sklearn.model_selection import GridSearchCV\n",
    "import numpy as np\n",
    "\n",
    "# We are ignoring cvxpys warning about disciplined programming rules. \n",
    "import warnings\n",
    "warnings.filterwarnings('ignore')"
   ]
  },
  {
   "cell_type": "markdown",
   "metadata": {},
   "source": [
    "# The CelebA dataset\n",
    "\n",
    "On the Celebrity Faces dataset we are given descriptions of celebrity faces, with 40 binary attributes. Here, we use the Attribute 'Smiling' as the class label, and sex as the sensitive attribute. "
   ]
  },
  {
   "cell_type": "code",
   "execution_count": 3,
   "metadata": {},
   "outputs": [],
   "source": [
    "import get_real_data as get_data\n",
    "\n",
    "# Load Data\n",
    "x_data, y_data, s_data = get_data.get_celebA_data(load_data_size=None)\n",
    "# Train Test split. Here, we choose a small number to reduce running time.\n",
    "train_size = 1000\n",
    "x_train, x_test, y_train, y_test, s_train, s_test = train_test_split(x_data, y_data, s_data, train_size=train_size, shuffle=True)"
   ]
  },
  {
   "cell_type": "markdown",
   "metadata": {},
   "source": [
    "Here are some basic information about the dataset:"
   ]
  },
  {
   "cell_type": "code",
   "execution_count": 4,
   "metadata": {},
   "outputs": [
    {
     "name": "stdout",
     "output_type": "stream",
     "text": [
      "Total data points: 202599\n",
      "# non-protected examples: 118165\n",
      "# protected examples: 84434\n",
      "# non-protected examples in positive class: 63871 (54.1%)\n",
      "# protected examples in positive class: 33798 (40.0%)\n"
     ]
    }
   ],
   "source": [
    "import utils as ut\n",
    "ut.print_data_stats(s_data, y_data)"
   ]
  },
  {
   "cell_type": "markdown",
   "metadata": {},
   "source": [
    "## Creating a SearchFair Model\n",
    "\n",
    "### Demographic Parity"
   ]
  },
  {
   "cell_type": "markdown",
   "metadata": {},
   "source": [
    "To learn a classifier with SearchFair, we need to choose a kernel between 'linear' and 'rbf', and we need to choose a fairness notion - either Demographic Parity (DDP) or Equality of Opportunity (DEO). "
   ]
  },
  {
   "cell_type": "code",
   "execution_count": 5,
   "metadata": {},
   "outputs": [],
   "source": [
    "fairness_notion = 'DDP' # DDP = Demographic Parity, DEO = Equality of Opportunity. \n",
    "kernel = 'linear' # 'linear', 'rbf'\n",
    "verbose = True # True = SearchFair output, 2 = show also solver progress"
   ]
  },
  {
   "cell_type": "markdown",
   "metadata": {},
   "source": [
    "Let us choose a regularization parameter and then fit a model with the default settings. "
   ]
  },
  {
   "cell_type": "code",
   "execution_count": 6,
   "metadata": {},
   "outputs": [
    {
     "name": "stdout",
     "output_type": "stream",
     "text": [
      "Preprocessing...\n",
      "Compilation of CVXPY (might take a while for v1.1)\n",
      "Testing lambda_min: 0.00\n",
      "Obtained: DDP = 0.2052 with lambda = 0.0000\n",
      "Testing lambda_max: 1.00\n",
      "Obtained: DDP = -0.7897 with lambda = 1.0000\n",
      "Starting Binary Search...\n",
      "----------Iteration #0----------\n",
      "Testing new Lambda: 0.5000\n",
      "Obtained: DDP = -0.5074 with lambda = 0.5000\n",
      "----------Iteration #1----------\n",
      "Testing new Lambda: 0.2500\n",
      "Obtained: DDP = -0.1176 with lambda = 0.2500\n",
      "----------Iteration #2----------\n",
      "Testing new Lambda: 0.1250\n",
      "Obtained: DDP = 0.2052 with lambda = 0.1250\n",
      "----------Iteration #3----------\n",
      "Testing new Lambda: 0.1875\n",
      "Obtained: DDP = 0.0672 with lambda = 0.1875\n",
      "----------Iteration #4----------\n",
      "Testing new Lambda: 0.2188\n",
      "Obtained: DDP = -0.0127 with lambda = 0.2188\n",
      "----------Iteration #5----------\n",
      "Testing new Lambda: 0.2031\n",
      "Obtained: DDP = 0.0502 with lambda = 0.2031\n",
      "----------Iteration #6----------\n",
      "Testing new Lambda: 0.2109\n",
      "Obtained: DDP = -0.0103 with lambda = 0.2109\n",
      "----------Iteration #7----------\n",
      "Testing new Lambda: 0.2070\n",
      "Obtained: DDP = 0.0095 with lambda = 0.2070\n",
      "Sufficient fairness obtained before maximum iterations were reached.\n",
      "----------Found Lambda 0.2070 with fairness 0.0095----------\n"
     ]
    },
    {
     "data": {
      "text/plain": [
       "SearchFair(reg_beta=0.0001, verbose=True)"
      ]
     },
     "execution_count": 6,
     "metadata": {},
     "output_type": "execute_result"
    }
   ],
   "source": [
    "# Regularization Parameter beta\n",
    "reg_beta = 0.0001\n",
    "linear_model_DDP = SearchFair(reg_beta=reg_beta, kernel=kernel, fairness_notion=fairness_notion, verbose=verbose)\n",
    "linear_model_DDP.fit(x_train, y_train, s_train=s_train)"
   ]
  },
  {
   "cell_type": "markdown",
   "metadata": {},
   "source": [
    "To print out the Accuracy and the fairness notions Demographic Parity and Equality of Opportuniy, we define the following function. "
   ]
  },
  {
   "cell_type": "code",
   "execution_count": 7,
   "metadata": {},
   "outputs": [],
   "source": [
    "def print_clf_stats(model, x_train, x_test, y_train, y_test, s_train, s_test):\n",
    "    train_acc = ut.get_accuracy(np.sign(model.predict(x_train)), y_train)\n",
    "    test_acc = ut.get_accuracy(np.sign(model.predict(x_test)), y_test)\n",
    "    test_DDP, test_DEO = ut.compute_fairness_measures(model.predict(x_test), y_test, s_test)\n",
    "    train_DDP, train_DEO = ut.compute_fairness_measures(model.predict(x_train), y_train, s_train)\n",
    "\n",
    "    print(10*'-'+\"Train\"+10*'-')\n",
    "    print(\"Accuracy: %0.4f%%\" % (train_acc * 100))\n",
    "    print(\"DDP: %0.4f%%\" % (train_DDP * 100), \"DEO: %0.4f%%\" % (train_DEO * 100))\n",
    "    print(10*'-'+\"Test\"+10*'-')\n",
    "    print(\"Accuracy: %0.4f%%\" % (test_acc * 100))\n",
    "    print(\"DDP: %0.4f%%\" % (test_DDP * 100), \"DEO: %0.4f%%\" % (test_DEO * 100))"
   ]
  },
  {
   "cell_type": "markdown",
   "metadata": {},
   "source": [
    "Now lets see, if we obtained a fair classifier with respect to the fairness notions we specified. "
   ]
  },
  {
   "cell_type": "code",
   "execution_count": 8,
   "metadata": {},
   "outputs": [
    {
     "name": "stdout",
     "output_type": "stream",
     "text": [
      "----------Train----------\n",
      "Accuracy: 82.3000%\n",
      "DDP: 0.9500% DEO: 10.0143%\n",
      "----------Test----------\n",
      "Accuracy: 81.4528%\n",
      "DDP: 7.1903% DEO: 11.6502%\n"
     ]
    }
   ],
   "source": [
    "print_clf_stats(linear_model_DDP, x_train, x_test, y_train, y_test, s_train, s_test)"
   ]
  },
  {
   "cell_type": "markdown",
   "metadata": {},
   "source": [
    "Probably, you will see that the train DDP is small, and SearchFair succeed to find a fair classifier. The test DDP might or might not be close to 0. This is due to the small number of points which are used to reduce running time for this example notebook. Go ahead and try it with more points!"
   ]
  },
  {
   "cell_type": "markdown",
   "metadata": {},
   "source": [
    "### Equality of Opportunity"
   ]
  },
  {
   "cell_type": "markdown",
   "metadata": {},
   "source": [
    "Now we try the same using a more complex rbf kernel, and we try to improve Equality of Opportunity this time. "
   ]
  },
  {
   "cell_type": "code",
   "execution_count": 9,
   "metadata": {},
   "outputs": [
    {
     "name": "stdout",
     "output_type": "stream",
     "text": [
      "Preprocessing...\n",
      "Compilation of CVXPY (might take a while for v1.1)\n",
      "Testing lambda_min: 0.00\n",
      "Obtained: DEO = 0.0981 with lambda = 0.0000\n",
      "Testing lambda_max: 1.00\n",
      "Obtained: DEO = -0.9073 with lambda = 1.0000\n",
      "Starting Binary Search...\n",
      "----------Iteration #0----------\n",
      "Testing new Lambda: 0.5000\n",
      "Obtained: DEO = -0.8149 with lambda = 0.5000\n",
      "----------Iteration #1----------\n",
      "Testing new Lambda: 0.2500\n",
      "Obtained: DEO = -0.0438 with lambda = 0.2500\n",
      "----------Iteration #2----------\n",
      "Testing new Lambda: 0.1250\n",
      "Obtained: DEO = 0.0394 with lambda = 0.1250\n",
      "----------Iteration #3----------\n",
      "Testing new Lambda: 0.1875\n",
      "Obtained: DEO = 0.0168 with lambda = 0.1875\n",
      "----------Iteration #4----------\n",
      "Testing new Lambda: 0.2188\n",
      "Obtained: DEO = 0.0116 with lambda = 0.2188\n",
      "----------Iteration #5----------\n",
      "Testing new Lambda: 0.2344\n",
      "Obtained: DEO = -0.0072 with lambda = 0.2344\n",
      "Sufficient fairness obtained before maximum iterations were reached.\n",
      "----------Found Lambda 0.2344 with fairness -0.0072----------\n",
      "----------Train----------\n",
      "Accuracy: 87.1000%\n",
      "DDP: -0.5383% DEO: -0.7229%\n",
      "----------Test----------\n",
      "Accuracy: 83.7058%\n",
      "DDP: 6.0490% DEO: 2.0149%\n"
     ]
    }
   ],
   "source": [
    "fairness_notion = 'DEO' # DDP = Demographic Parity, DEO = Equality of Opportunity. \n",
    "kernel = 'rbf' # 'linear', 'rbf'\n",
    "verbose = True\n",
    "\n",
    "# Regularization Parameter beta\n",
    "reg_beta = 0.0001\n",
    "rbf_model_DEO = SearchFair(reg_beta=reg_beta, kernel=kernel, fairness_notion=fairness_notion, verbose=verbose)\n",
    "rbf_model_DEO.fit(x_train, y_train, s_train=s_train)\n",
    "\n",
    "# Evaluate model\n",
    "print_clf_stats(rbf_model_DEO, x_train, x_test, y_train, y_test, s_train, s_test)"
   ]
  },
  {
   "cell_type": "markdown",
   "metadata": {},
   "source": [
    "### Cross Validation - GridSearch"
   ]
  },
  {
   "cell_type": "markdown",
   "metadata": {},
   "source": [
    "It is also possible to use GridSearchCV for the regularization paramter beta, and, if used, the width of the rbf kernel. But running this might take some time."
   ]
  },
  {
   "cell_type": "code",
   "execution_count": 10,
   "metadata": {},
   "outputs": [
    {
     "name": "stdout",
     "output_type": "stream",
     "text": [
      "Fitting 3 folds for each of 9 candidates, totalling 27 fits\n",
      "[CV] gamma=0.01, reg_beta=0.0001 .....................................\n"
     ]
    },
    {
     "name": "stderr",
     "output_type": "stream",
     "text": [
      "[Parallel(n_jobs=1)]: Using backend SequentialBackend with 1 concurrent workers.\n"
     ]
    },
    {
     "name": "stdout",
     "output_type": "stream",
     "text": [
      "[CV] ...................... gamma=0.01, reg_beta=0.0001, total= 1.0min\n",
      "[CV] gamma=0.01, reg_beta=0.0001 .....................................\n"
     ]
    },
    {
     "name": "stderr",
     "output_type": "stream",
     "text": [
      "[Parallel(n_jobs=1)]: Done   1 out of   1 | elapsed:  1.0min remaining:    0.0s\n"
     ]
    },
    {
     "name": "stdout",
     "output_type": "stream",
     "text": [
      "[CV] ...................... gamma=0.01, reg_beta=0.0001, total= 1.0min\n",
      "[CV] gamma=0.01, reg_beta=0.0001 .....................................\n",
      "[CV] ...................... gamma=0.01, reg_beta=0.0001, total=  56.1s\n",
      "[CV] gamma=0.01, reg_beta=0.001 ......................................\n",
      "[CV] ....................... gamma=0.01, reg_beta=0.001, total= 1.0min\n",
      "[CV] gamma=0.01, reg_beta=0.001 ......................................\n",
      "[CV] ....................... gamma=0.01, reg_beta=0.001, total=  52.4s\n",
      "[CV] gamma=0.01, reg_beta=0.001 ......................................\n",
      "[CV] ....................... gamma=0.01, reg_beta=0.001, total=  57.2s\n",
      "[CV] gamma=0.01, reg_beta=0.01 .......................................\n",
      "[CV] ........................ gamma=0.01, reg_beta=0.01, total=  58.8s\n",
      "[CV] gamma=0.01, reg_beta=0.01 .......................................\n",
      "[CV] ........................ gamma=0.01, reg_beta=0.01, total=  51.5s\n",
      "[CV] gamma=0.01, reg_beta=0.01 .......................................\n",
      "[CV] ........................ gamma=0.01, reg_beta=0.01, total=  54.8s\n",
      "[CV] gamma=0.02631578947368421, reg_beta=0.0001 ......................\n",
      "[CV] ....... gamma=0.02631578947368421, reg_beta=0.0001, total=  54.2s\n",
      "[CV] gamma=0.02631578947368421, reg_beta=0.0001 ......................\n",
      "[CV] ....... gamma=0.02631578947368421, reg_beta=0.0001, total=  54.2s\n",
      "[CV] gamma=0.02631578947368421, reg_beta=0.0001 ......................\n",
      "[CV] ....... gamma=0.02631578947368421, reg_beta=0.0001, total=  52.8s\n",
      "[CV] gamma=0.02631578947368421, reg_beta=0.001 .......................\n",
      "[CV] ........ gamma=0.02631578947368421, reg_beta=0.001, total=  53.9s\n",
      "[CV] gamma=0.02631578947368421, reg_beta=0.001 .......................\n",
      "[CV] ........ gamma=0.02631578947368421, reg_beta=0.001, total=  51.2s\n",
      "[CV] gamma=0.02631578947368421, reg_beta=0.001 .......................\n",
      "[CV] ........ gamma=0.02631578947368421, reg_beta=0.001, total=  58.0s\n",
      "[CV] gamma=0.02631578947368421, reg_beta=0.01 ........................\n",
      "[CV] ......... gamma=0.02631578947368421, reg_beta=0.01, total=  55.1s\n",
      "[CV] gamma=0.02631578947368421, reg_beta=0.01 ........................\n",
      "[CV] ......... gamma=0.02631578947368421, reg_beta=0.01, total=  51.3s\n",
      "[CV] gamma=0.02631578947368421, reg_beta=0.01 ........................\n",
      "[CV] ......... gamma=0.02631578947368421, reg_beta=0.01, total=  54.2s\n",
      "[CV] gamma=0.1, reg_beta=0.0001 ......................................\n",
      "[CV] ....................... gamma=0.1, reg_beta=0.0001, total=  53.9s\n",
      "[CV] gamma=0.1, reg_beta=0.0001 ......................................\n",
      "[CV] ....................... gamma=0.1, reg_beta=0.0001, total=  53.7s\n",
      "[CV] gamma=0.1, reg_beta=0.0001 ......................................\n",
      "[CV] ....................... gamma=0.1, reg_beta=0.0001, total=  52.2s\n",
      "[CV] gamma=0.1, reg_beta=0.001 .......................................\n",
      "[CV] ........................ gamma=0.1, reg_beta=0.001, total=  52.2s\n",
      "[CV] gamma=0.1, reg_beta=0.001 .......................................\n",
      "[CV] ........................ gamma=0.1, reg_beta=0.001, total=  45.8s\n",
      "[CV] gamma=0.1, reg_beta=0.001 .......................................\n",
      "[CV] ........................ gamma=0.1, reg_beta=0.001, total=  52.2s\n",
      "[CV] gamma=0.1, reg_beta=0.01 ........................................\n",
      "[CV] ......................... gamma=0.1, reg_beta=0.01, total=  46.4s\n",
      "[CV] gamma=0.1, reg_beta=0.01 ........................................\n",
      "[CV] ......................... gamma=0.1, reg_beta=0.01, total=  52.1s\n",
      "[CV] gamma=0.1, reg_beta=0.01 ........................................\n",
      "[CV] ......................... gamma=0.1, reg_beta=0.01, total=  50.9s\n"
     ]
    },
    {
     "name": "stderr",
     "output_type": "stream",
     "text": [
      "[Parallel(n_jobs=1)]: Done  27 out of  27 | elapsed: 24.3min finished\n"
     ]
    },
    {
     "data": {
      "text/plain": [
       "GridSearchCV(cv=3, estimator=SearchFair(kernel='rbf'), n_jobs=1,\n",
       "             param_grid={'gamma': [0.01, 0.02631578947368421, 0.1],\n",
       "                         'reg_beta': [0.0001, 0.001, 0.01]},\n",
       "             scoring='accuracy', verbose=2)"
      ]
     },
     "execution_count": 10,
     "metadata": {},
     "output_type": "execute_result"
    }
   ],
   "source": [
    "fairness_notion = 'DDP' # DDP = Demographic Parity, DEO = Equality of Opportunity. \n",
    "kernel = 'rbf' # 'linear', 'rbf'\n",
    "verbose = False\n",
    "\n",
    "cv_model = SearchFair(kernel=kernel, fairness_notion=fairness_notion, verbose=verbose)\n",
    "\n",
    "# regularization parameter beta\n",
    "beta_params = [0.0001, 0.001, 0.01]\n",
    "cv_params = {'reg_beta': beta_params}\n",
    "\n",
    "if kernel == 'rbf':\n",
    "    n_features = x_data.shape[1]\n",
    "    default_width = 1/n_features\n",
    "    order_of_magn = np.floor(np.log10(default_width))\n",
    "    kernel_widths = [10**(order_of_magn), default_width, 10**(order_of_magn+1)]\n",
    "    cv_params['gamma'] = kernel_widths\n",
    "\n",
    "grid_clf = GridSearchCV(cv_model,cv_params, cv=3, verbose=2, n_jobs=1, scoring='accuracy', refit=True)\n",
    "grid_clf.fit(x_train, y_train, s_train=s_train)"
   ]
  },
  {
   "cell_type": "code",
   "execution_count": 11,
   "metadata": {},
   "outputs": [
    {
     "name": "stdout",
     "output_type": "stream",
     "text": [
      "----------Train----------\n",
      "Accuracy: 84.8000%\n",
      "DDP: 0.0982% DEO: 4.0297%\n",
      "----------Test----------\n",
      "Accuracy: 83.7901%\n",
      "DDP: 6.6078% DEO: 4.0772%\n"
     ]
    }
   ],
   "source": [
    "# Evaluate model\n",
    "print_clf_stats(grid_clf, x_train, x_test, y_train, y_test, s_train, s_test)"
   ]
  },
  {
   "cell_type": "markdown",
   "metadata": {},
   "source": [
    "## Adult dataset\n",
    "\n",
    "In the fairness literature, the adult dataset is a very popular dataset. It contains US census data from 1994, where the class label indicates if the income is higher or lower than 50.000$. The binary sensitive attribute here, is the sex."
   ]
  },
  {
   "cell_type": "code",
   "execution_count": 12,
   "metadata": {},
   "outputs": [
    {
     "name": "stdout",
     "output_type": "stream",
     "text": [
      "Total data points: 48842\n",
      "# non-protected examples: 32650\n",
      "# protected examples: 16192\n",
      "# non-protected examples in positive class: 9918 (30.4%)\n",
      "# protected examples in positive class: 1769 (10.9%)\n"
     ]
    }
   ],
   "source": [
    "# Load Data\n",
    "x_data, y_data, s_data = get_data.get_adult_data(load_data_size=None)\n",
    "# Train Test split. Here, we choose a small number to reduce running time.\n",
    "train_size = 1000\n",
    "x_train, x_test, y_train, y_test, s_train, s_test = train_test_split(x_data, y_data, s_data, train_size=train_size, shuffle=True)\n",
    "ut.print_data_stats(s_data, y_data)"
   ]
  },
  {
   "cell_type": "markdown",
   "metadata": {},
   "source": [
    "If you want, you can also try SearchFair on Adult. "
   ]
  },
  {
   "cell_type": "code",
   "execution_count": 14,
   "metadata": {},
   "outputs": [
    {
     "name": "stdout",
     "output_type": "stream",
     "text": [
      "Fitting 3 folds for each of 9 candidates, totalling 27 fits\n",
      "[CV] gamma=0.01, reg_beta=0.0001 .....................................\n",
      "Preprocessing...\n",
      "Compilation of CVXPY (might take a while for v1.1)\n",
      "Testing lambda_min: 0.00\n"
     ]
    },
    {
     "name": "stderr",
     "output_type": "stream",
     "text": [
      "[Parallel(n_jobs=1)]: Using backend SequentialBackend with 1 concurrent workers.\n"
     ]
    },
    {
     "name": "stdout",
     "output_type": "stream",
     "text": [
      "Obtained: DDP = 0.2249 with lambda = 0.0000\n",
      "Testing lambda_max: 1.00\n",
      "Obtained: DDP = -0.3774 with lambda = 1.0000\n",
      "Starting Binary Search...\n",
      "----------Iteration #0----------\n",
      "Testing new Lambda: 0.5000\n",
      "Obtained: DDP = 0.0000 with lambda = 0.5000\n",
      "Sufficient fairness obtained before maximum iterations were reached.\n",
      "----------Found Lambda 0.5000 with fairness 0.0000----------\n",
      "[CV] ...................... gamma=0.01, reg_beta=0.0001, total=  57.0s\n",
      "[CV] gamma=0.01, reg_beta=0.0001 .....................................\n",
      "Preprocessing...\n",
      "Compilation of CVXPY (might take a while for v1.1)\n",
      "Testing lambda_min: 0.00\n"
     ]
    },
    {
     "name": "stderr",
     "output_type": "stream",
     "text": [
      "[Parallel(n_jobs=1)]: Done   1 out of   1 | elapsed:   57.0s remaining:    0.0s\n"
     ]
    },
    {
     "name": "stdout",
     "output_type": "stream",
     "text": [
      "Obtained: DDP = 0.2638 with lambda = 0.0000\n",
      "Testing lambda_max: 1.00\n",
      "Obtained: DDP = -0.4804 with lambda = 1.0000\n",
      "Starting Binary Search...\n",
      "----------Iteration #0----------\n",
      "Testing new Lambda: 0.5000\n",
      "Obtained: DDP = 0.0000 with lambda = 0.5000\n",
      "Sufficient fairness obtained before maximum iterations were reached.\n",
      "----------Found Lambda 0.5000 with fairness 0.0000----------\n",
      "[CV] ...................... gamma=0.01, reg_beta=0.0001, total=  57.7s\n",
      "[CV] gamma=0.01, reg_beta=0.0001 .....................................\n",
      "Preprocessing...\n",
      "Compilation of CVXPY (might take a while for v1.1)\n",
      "Testing lambda_min: 0.00\n",
      "Obtained: DDP = 0.2202 with lambda = 0.0000\n",
      "Testing lambda_max: 1.00\n",
      "Obtained: DDP = -0.2683 with lambda = 1.0000\n",
      "Starting Binary Search...\n",
      "----------Iteration #0----------\n",
      "Testing new Lambda: 0.5000\n",
      "Obtained: DDP = 0.0000 with lambda = 0.5000\n",
      "Sufficient fairness obtained before maximum iterations were reached.\n",
      "----------Found Lambda 0.5000 with fairness 0.0000----------\n",
      "[CV] ...................... gamma=0.01, reg_beta=0.0001, total= 1.1min\n",
      "[CV] gamma=0.01, reg_beta=0.001 ......................................\n",
      "Preprocessing...\n",
      "Compilation of CVXPY (might take a while for v1.1)\n",
      "Testing lambda_min: 0.00\n",
      "Obtained: DDP = 0.2411 with lambda = 0.0000\n",
      "Testing lambda_max: 1.00\n",
      "Obtained: DDP = -0.3278 with lambda = 1.0000\n",
      "Starting Binary Search...\n",
      "----------Iteration #0----------\n",
      "Testing new Lambda: 0.5000\n",
      "Obtained: DDP = 0.0000 with lambda = 0.5000\n",
      "Sufficient fairness obtained before maximum iterations were reached.\n",
      "----------Found Lambda 0.5000 with fairness 0.0000----------\n",
      "[CV] ....................... gamma=0.01, reg_beta=0.001, total= 1.1min\n",
      "[CV] gamma=0.01, reg_beta=0.001 ......................................\n",
      "Preprocessing...\n",
      "Compilation of CVXPY (might take a while for v1.1)\n",
      "Testing lambda_min: 0.00\n",
      "Obtained: DDP = 0.2438 with lambda = 0.0000\n",
      "Testing lambda_max: 1.00\n",
      "Obtained: DDP = 0.0000 with lambda = 1.0000\n",
      "Classifier is fair enough with lambda = 1.0000\n",
      "----------Found Lambda 1.0000 with fairness 0.0000----------\n",
      "[CV] ....................... gamma=0.01, reg_beta=0.001, total=  53.4s\n",
      "[CV] gamma=0.01, reg_beta=0.001 ......................................\n",
      "Preprocessing...\n",
      "Compilation of CVXPY (might take a while for v1.1)\n",
      "Testing lambda_min: 0.00\n",
      "Obtained: DDP = 0.2125 with lambda = 0.0000\n",
      "Testing lambda_max: 1.00\n",
      "Obtained: DDP = 0.0000 with lambda = 1.0000\n",
      "Classifier is fair enough with lambda = 1.0000\n",
      "----------Found Lambda 1.0000 with fairness 0.0000----------\n",
      "[CV] ....................... gamma=0.01, reg_beta=0.001, total=  55.1s\n",
      "[CV] gamma=0.01, reg_beta=0.01 .......................................\n",
      "Preprocessing...\n",
      "Compilation of CVXPY (might take a while for v1.1)\n",
      "Testing lambda_min: 0.00\n",
      "Obtained: DDP = 0.0000 with lambda = 0.0000\n",
      "Testing lambda_max: 1.00\n",
      "Obtained: DDP = 0.0000 with lambda = 1.0000\n",
      "Classifier is fair enough with lambda = 1.0000\n",
      "----------Found Lambda 1.0000 with fairness 0.0000----------\n",
      "[CV] ........................ gamma=0.01, reg_beta=0.01, total=  54.2s\n",
      "[CV] gamma=0.01, reg_beta=0.01 .......................................\n",
      "Preprocessing...\n",
      "Compilation of CVXPY (might take a while for v1.1)\n",
      "Testing lambda_min: 0.00\n",
      "Obtained: DDP = 0.0000 with lambda = 0.0000\n",
      "Testing lambda_max: 1.00\n",
      "Obtained: DDP = 0.0000 with lambda = 1.0000\n",
      "Classifier is fair enough with lambda = 1.0000\n",
      "----------Found Lambda 1.0000 with fairness 0.0000----------\n",
      "[CV] ........................ gamma=0.01, reg_beta=0.01, total=  50.5s\n",
      "[CV] gamma=0.01, reg_beta=0.01 .......................................\n",
      "Preprocessing...\n",
      "Compilation of CVXPY (might take a while for v1.1)\n",
      "Testing lambda_min: 0.00\n",
      "Obtained: DDP = 0.0000 with lambda = 0.0000\n",
      "Testing lambda_max: 1.00\n",
      "Obtained: DDP = 0.0000 with lambda = 1.0000\n",
      "Classifier is fair enough with lambda = 1.0000\n",
      "----------Found Lambda 1.0000 with fairness 0.0000----------\n",
      "[CV] ........................ gamma=0.01, reg_beta=0.01, total=  56.6s\n",
      "[CV] gamma=0.05555555555555555, reg_beta=0.0001 ......................\n",
      "Preprocessing...\n",
      "Compilation of CVXPY (might take a while for v1.1)\n",
      "Testing lambda_min: 0.00\n",
      "Obtained: DDP = 0.2073 with lambda = 0.0000\n",
      "Testing lambda_max: 1.00\n",
      "Obtained: DDP = -0.3636 with lambda = 1.0000\n",
      "Starting Binary Search...\n",
      "----------Iteration #0----------\n",
      "Testing new Lambda: 0.5000\n",
      "Obtained: DDP = -0.0068 with lambda = 0.5000\n",
      "Sufficient fairness obtained before maximum iterations were reached.\n",
      "----------Found Lambda 0.5000 with fairness -0.0068----------\n",
      "[CV] ....... gamma=0.05555555555555555, reg_beta=0.0001, total= 1.0min\n",
      "[CV] gamma=0.05555555555555555, reg_beta=0.0001 ......................\n",
      "Preprocessing...\n",
      "Compilation of CVXPY (might take a while for v1.1)\n",
      "Testing lambda_min: 0.00\n",
      "Obtained: DDP = 0.2638 with lambda = 0.0000\n",
      "Testing lambda_max: 1.00\n",
      "Obtained: DDP = -0.3178 with lambda = 1.0000\n",
      "Starting Binary Search...\n",
      "----------Iteration #0----------\n",
      "Testing new Lambda: 0.5000\n",
      "Obtained: DDP = -0.0226 with lambda = 0.5000\n",
      "----------Iteration #1----------\n",
      "Testing new Lambda: 0.2500\n",
      "Obtained: DDP = 0.0000 with lambda = 0.2500\n",
      "Sufficient fairness obtained before maximum iterations were reached.\n",
      "----------Found Lambda 0.2500 with fairness 0.0000----------\n",
      "[CV] ....... gamma=0.05555555555555555, reg_beta=0.0001, total=  56.9s\n",
      "[CV] gamma=0.05555555555555555, reg_beta=0.0001 ......................\n",
      "Preprocessing...\n",
      "Compilation of CVXPY (might take a while for v1.1)\n",
      "Testing lambda_min: 0.00\n",
      "Obtained: DDP = 0.2074 with lambda = 0.0000\n",
      "Testing lambda_max: 1.00\n",
      "Obtained: DDP = -0.2829 with lambda = 1.0000\n",
      "Starting Binary Search...\n",
      "----------Iteration #0----------\n",
      "Testing new Lambda: 0.5000\n",
      "Obtained: DDP = 0.0000 with lambda = 0.5000\n",
      "Sufficient fairness obtained before maximum iterations were reached.\n",
      "----------Found Lambda 0.5000 with fairness 0.0000----------\n",
      "[CV] ....... gamma=0.05555555555555555, reg_beta=0.0001, total= 1.1min\n",
      "[CV] gamma=0.05555555555555555, reg_beta=0.001 .......................\n",
      "Preprocessing...\n",
      "Compilation of CVXPY (might take a while for v1.1)\n",
      "Testing lambda_min: 0.00\n",
      "Obtained: DDP = 0.2249 with lambda = 0.0000\n",
      "Testing lambda_max: 1.00\n",
      "Obtained: DDP = -0.3891 with lambda = 1.0000\n",
      "Starting Binary Search...\n",
      "----------Iteration #0----------\n",
      "Testing new Lambda: 0.5000\n",
      "Obtained: DDP = 0.0000 with lambda = 0.5000\n",
      "Sufficient fairness obtained before maximum iterations were reached.\n",
      "----------Found Lambda 0.5000 with fairness 0.0000----------\n",
      "[CV] ........ gamma=0.05555555555555555, reg_beta=0.001, total=  57.5s\n",
      "[CV] gamma=0.05555555555555555, reg_beta=0.001 .......................\n",
      "Preprocessing...\n",
      "Compilation of CVXPY (might take a while for v1.1)\n",
      "Testing lambda_min: 0.00\n",
      "Obtained: DDP = 0.2638 with lambda = 0.0000\n",
      "Testing lambda_max: 1.00\n",
      "Obtained: DDP = -0.3908 with lambda = 1.0000\n",
      "Starting Binary Search...\n",
      "----------Iteration #0----------\n",
      "Testing new Lambda: 0.5000\n",
      "Obtained: DDP = 0.0000 with lambda = 0.5000\n",
      "Sufficient fairness obtained before maximum iterations were reached.\n",
      "----------Found Lambda 0.5000 with fairness 0.0000----------\n",
      "[CV] ........ gamma=0.05555555555555555, reg_beta=0.001, total=  54.7s\n",
      "[CV] gamma=0.05555555555555555, reg_beta=0.001 .......................\n",
      "Preprocessing...\n",
      "Compilation of CVXPY (might take a while for v1.1)\n",
      "Testing lambda_min: 0.00\n",
      "Obtained: DDP = 0.2202 with lambda = 0.0000\n",
      "Testing lambda_max: 1.00\n",
      "Obtained: DDP = -0.2894 with lambda = 1.0000\n",
      "Starting Binary Search...\n",
      "----------Iteration #0----------\n",
      "Testing new Lambda: 0.5000\n",
      "Obtained: DDP = 0.0000 with lambda = 0.5000\n",
      "Sufficient fairness obtained before maximum iterations were reached.\n",
      "----------Found Lambda 0.5000 with fairness 0.0000----------\n",
      "[CV] ........ gamma=0.05555555555555555, reg_beta=0.001, total= 1.1min\n",
      "[CV] gamma=0.05555555555555555, reg_beta=0.01 ........................\n",
      "Preprocessing...\n",
      "Compilation of CVXPY (might take a while for v1.1)\n",
      "Testing lambda_min: 0.00\n",
      "Obtained: DDP = 0.2164 with lambda = 0.0000\n",
      "Testing lambda_max: 1.00\n",
      "Obtained: DDP = -0.3659 with lambda = 1.0000\n",
      "Starting Binary Search...\n",
      "----------Iteration #0----------\n",
      "Testing new Lambda: 0.5000\n",
      "Obtained: DDP = 0.0000 with lambda = 0.5000\n",
      "Sufficient fairness obtained before maximum iterations were reached.\n",
      "----------Found Lambda 0.5000 with fairness 0.0000----------\n",
      "[CV] ......... gamma=0.05555555555555555, reg_beta=0.01, total=  57.0s\n",
      "[CV] gamma=0.05555555555555555, reg_beta=0.01 ........................\n",
      "Preprocessing...\n",
      "Compilation of CVXPY (might take a while for v1.1)\n",
      "Testing lambda_min: 0.00\n"
     ]
    },
    {
     "name": "stdout",
     "output_type": "stream",
     "text": [
      "Obtained: DDP = 0.2638 with lambda = 0.0000\n",
      "Testing lambda_max: 1.00\n",
      "Obtained: DDP = -0.3796 with lambda = 1.0000\n",
      "Starting Binary Search...\n",
      "----------Iteration #0----------\n",
      "Testing new Lambda: 0.5000\n",
      "Obtained: DDP = 0.0000 with lambda = 0.5000\n",
      "Sufficient fairness obtained before maximum iterations were reached.\n",
      "----------Found Lambda 0.5000 with fairness 0.0000----------\n",
      "[CV] ......... gamma=0.05555555555555555, reg_beta=0.01, total=  59.8s\n",
      "[CV] gamma=0.05555555555555555, reg_beta=0.01 ........................\n",
      "Preprocessing...\n",
      "Compilation of CVXPY (might take a while for v1.1)\n",
      "Testing lambda_min: 0.00\n",
      "Obtained: DDP = 0.2148 with lambda = 0.0000\n",
      "Testing lambda_max: 1.00\n",
      "Obtained: DDP = 0.0000 with lambda = 1.0000\n",
      "Classifier is fair enough with lambda = 1.0000\n",
      "----------Found Lambda 1.0000 with fairness 0.0000----------\n",
      "[CV] ......... gamma=0.05555555555555555, reg_beta=0.01, total=  48.9s\n",
      "[CV] gamma=0.1, reg_beta=0.0001 ......................................\n",
      "Preprocessing...\n",
      "Compilation of CVXPY (might take a while for v1.1)\n",
      "Testing lambda_min: 0.00\n",
      "Obtained: DDP = 0.1671 with lambda = 0.0000\n",
      "Testing lambda_max: 1.00\n",
      "Obtained: DDP = -0.3749 with lambda = 1.0000\n",
      "Starting Binary Search...\n",
      "----------Iteration #0----------\n",
      "Testing new Lambda: 0.5000\n",
      "Obtained: DDP = -0.0817 with lambda = 0.5000\n",
      "----------Iteration #1----------\n",
      "Testing new Lambda: 0.2500\n",
      "Obtained: DDP = 0.1449 with lambda = 0.2500\n",
      "----------Iteration #2----------\n",
      "Testing new Lambda: 0.3750\n",
      "Obtained: DDP = 0.0575 with lambda = 0.3750\n",
      "----------Iteration #3----------\n",
      "Testing new Lambda: 0.4375\n",
      "Obtained: DDP = 0.0461 with lambda = 0.4375\n",
      "----------Iteration #4----------\n",
      "Testing new Lambda: 0.4688\n",
      "Obtained: DDP = 0.0461 with lambda = 0.4688\n",
      "----------Iteration #5----------\n",
      "Testing new Lambda: 0.4844\n",
      "Obtained: DDP = -0.0611 with lambda = 0.4844\n",
      "----------Iteration #6----------\n",
      "Testing new Lambda: 0.4766\n",
      "Obtained: DDP = 0.0369 with lambda = 0.4766\n",
      "----------Iteration #7----------\n",
      "Testing new Lambda: 0.4805\n",
      "Obtained: DDP = -0.0019 with lambda = 0.4805\n",
      "Sufficient fairness obtained before maximum iterations were reached.\n",
      "----------Found Lambda 0.4805 with fairness -0.0019----------\n",
      "[CV] ....................... gamma=0.1, reg_beta=0.0001, total= 1.1min\n",
      "[CV] gamma=0.1, reg_beta=0.0001 ......................................\n",
      "Preprocessing...\n",
      "Compilation of CVXPY (might take a while for v1.1)\n",
      "Testing lambda_min: 0.00\n",
      "Obtained: DDP = 0.2391 with lambda = 0.0000\n",
      "Testing lambda_max: 1.00\n",
      "Obtained: DDP = -0.3790 with lambda = 1.0000\n",
      "Starting Binary Search...\n",
      "----------Iteration #0----------\n",
      "Testing new Lambda: 0.5000\n",
      "Obtained: DDP = -0.0951 with lambda = 0.5000\n",
      "----------Iteration #1----------\n",
      "Testing new Lambda: 0.2500\n",
      "Obtained: DDP = 0.0734 with lambda = 0.2500\n",
      "----------Iteration #2----------\n",
      "Testing new Lambda: 0.3750\n",
      "Obtained: DDP = -0.0363 with lambda = 0.3750\n",
      "----------Iteration #3----------\n",
      "Testing new Lambda: 0.3125\n",
      "Obtained: DDP = 0.0689 with lambda = 0.3125\n",
      "----------Iteration #4----------\n",
      "Testing new Lambda: 0.3438\n",
      "Obtained: DDP = -0.0385 with lambda = 0.3438\n",
      "----------Iteration #5----------\n",
      "Testing new Lambda: 0.3281\n",
      "Obtained: DDP = 0.0109 with lambda = 0.3281\n",
      "----------Iteration #6----------\n",
      "Testing new Lambda: 0.3359\n",
      "Obtained: DDP = -0.0363 with lambda = 0.3359\n",
      "----------Iteration #7----------\n",
      "Testing new Lambda: 0.3320\n",
      "Obtained: DDP = -0.0227 with lambda = 0.3320\n",
      "----------Iteration #8----------\n",
      "Testing new Lambda: 0.3301\n",
      "Obtained: DDP = -0.0227 with lambda = 0.3301\n",
      "----------Iteration #9----------\n",
      "Testing new Lambda: 0.3291\n",
      "Obtained: DDP = 0.0109 with lambda = 0.3291\n",
      "Hit maximum iterations of Binary Search.\n",
      "----------Found Lambda 0.3281 with fairness 0.0109----------\n",
      "[CV] ....................... gamma=0.1, reg_beta=0.0001, total= 1.3min\n",
      "[CV] gamma=0.1, reg_beta=0.0001 ......................................\n",
      "Preprocessing...\n",
      "Compilation of CVXPY (might take a while for v1.1)\n",
      "Testing lambda_min: 0.00\n",
      "Obtained: DDP = 0.2129 with lambda = 0.0000\n",
      "Testing lambda_max: 1.00\n",
      "Obtained: DDP = -0.3025 with lambda = 1.0000\n",
      "Starting Binary Search...\n",
      "----------Iteration #0----------\n",
      "Testing new Lambda: 0.5000\n",
      "Obtained: DDP = 0.0000 with lambda = 0.5000\n",
      "Sufficient fairness obtained before maximum iterations were reached.\n",
      "----------Found Lambda 0.5000 with fairness 0.0000----------\n",
      "[CV] ....................... gamma=0.1, reg_beta=0.0001, total=  51.9s\n",
      "[CV] gamma=0.1, reg_beta=0.001 .......................................\n",
      "Preprocessing...\n",
      "Compilation of CVXPY (might take a while for v1.1)\n",
      "Testing lambda_min: 0.00\n",
      "Obtained: DDP = 0.2073 with lambda = 0.0000\n",
      "Testing lambda_max: 1.00\n",
      "Obtained: DDP = -0.3590 with lambda = 1.0000\n",
      "Starting Binary Search...\n",
      "----------Iteration #0----------\n",
      "Testing new Lambda: 0.5000\n",
      "Obtained: DDP = 0.0000 with lambda = 0.5000\n",
      "Sufficient fairness obtained before maximum iterations were reached.\n",
      "----------Found Lambda 0.5000 with fairness 0.0000----------\n",
      "[CV] ........................ gamma=0.1, reg_beta=0.001, total=  53.3s\n",
      "[CV] gamma=0.1, reg_beta=0.001 .......................................\n",
      "Preprocessing...\n",
      "Compilation of CVXPY (might take a while for v1.1)\n",
      "Testing lambda_min: 0.00\n",
      "Obtained: DDP = 0.2638 with lambda = 0.0000\n",
      "Testing lambda_max: 1.00\n",
      "Obtained: DDP = -0.3427 with lambda = 1.0000\n",
      "Starting Binary Search...\n",
      "----------Iteration #0----------\n",
      "Testing new Lambda: 0.5000\n",
      "Obtained: DDP = 0.0000 with lambda = 0.5000\n",
      "Sufficient fairness obtained before maximum iterations were reached.\n",
      "----------Found Lambda 0.5000 with fairness 0.0000----------\n",
      "[CV] ........................ gamma=0.1, reg_beta=0.001, total=  51.3s\n",
      "[CV] gamma=0.1, reg_beta=0.001 .......................................\n",
      "Preprocessing...\n",
      "Compilation of CVXPY (might take a while for v1.1)\n",
      "Testing lambda_min: 0.00\n",
      "Obtained: DDP = 0.2097 with lambda = 0.0000\n",
      "Testing lambda_max: 1.00\n",
      "Obtained: DDP = -0.2889 with lambda = 1.0000\n",
      "Starting Binary Search...\n",
      "----------Iteration #0----------\n",
      "Testing new Lambda: 0.5000\n",
      "Obtained: DDP = 0.0000 with lambda = 0.5000\n",
      "Sufficient fairness obtained before maximum iterations were reached.\n",
      "----------Found Lambda 0.5000 with fairness 0.0000----------\n",
      "[CV] ........................ gamma=0.1, reg_beta=0.001, total=  48.4s\n",
      "[CV] gamma=0.1, reg_beta=0.01 ........................................\n",
      "Preprocessing...\n",
      "Compilation of CVXPY (might take a while for v1.1)\n",
      "Testing lambda_min: 0.00\n",
      "Obtained: DDP = 0.2138 with lambda = 0.0000\n",
      "Testing lambda_max: 1.00\n",
      "Obtained: DDP = -0.3935 with lambda = 1.0000\n",
      "Starting Binary Search...\n",
      "----------Iteration #0----------\n",
      "Testing new Lambda: 0.5000\n",
      "Obtained: DDP = 0.0000 with lambda = 0.5000\n",
      "Sufficient fairness obtained before maximum iterations were reached.\n",
      "----------Found Lambda 0.5000 with fairness 0.0000----------\n",
      "[CV] ......................... gamma=0.1, reg_beta=0.01, total=  55.6s\n",
      "[CV] gamma=0.1, reg_beta=0.01 ........................................\n",
      "Preprocessing...\n",
      "Compilation of CVXPY (might take a while for v1.1)\n",
      "Testing lambda_min: 0.00\n",
      "Obtained: DDP = 0.2638 with lambda = 0.0000\n",
      "Testing lambda_max: 1.00\n",
      "Obtained: DDP = -0.3930 with lambda = 1.0000\n",
      "Starting Binary Search...\n",
      "----------Iteration #0----------\n",
      "Testing new Lambda: 0.5000\n",
      "Obtained: DDP = 0.0000 with lambda = 0.5000\n",
      "Sufficient fairness obtained before maximum iterations were reached.\n",
      "----------Found Lambda 0.5000 with fairness 0.0000----------\n",
      "[CV] ......................... gamma=0.1, reg_beta=0.01, total= 1.0min\n",
      "[CV] gamma=0.1, reg_beta=0.01 ........................................\n",
      "Preprocessing...\n",
      "Compilation of CVXPY (might take a while for v1.1)\n",
      "Testing lambda_min: 0.00\n",
      "Obtained: DDP = 0.2191 with lambda = 0.0000\n",
      "Testing lambda_max: 1.00\n",
      "Obtained: DDP = -0.2839 with lambda = 1.0000\n",
      "Starting Binary Search...\n",
      "----------Iteration #0----------\n",
      "Testing new Lambda: 0.5000\n",
      "Obtained: DDP = 0.0000 with lambda = 0.5000\n",
      "Sufficient fairness obtained before maximum iterations were reached.\n",
      "----------Found Lambda 0.5000 with fairness 0.0000----------\n",
      "[CV] ......................... gamma=0.1, reg_beta=0.01, total= 1.1min\n",
      "Preprocessing...\n",
      "Compilation of CVXPY (might take a while for v1.1)\n",
      "Testing lambda_min: 0.00\n"
     ]
    },
    {
     "name": "stderr",
     "output_type": "stream",
     "text": [
      "[Parallel(n_jobs=1)]: Done  27 out of  27 | elapsed: 26.2min finished\n"
     ]
    },
    {
     "name": "stdout",
     "output_type": "stream",
     "text": [
      "Obtained: DDP = 0.2365 with lambda = 0.0000\n",
      "Testing lambda_max: 1.00\n",
      "Obtained: DDP = -0.2827 with lambda = 1.0000\n",
      "Starting Binary Search...\n",
      "----------Iteration #0----------\n",
      "Testing new Lambda: 0.5000\n",
      "Obtained: DDP = 0.0000 with lambda = 0.5000\n",
      "Sufficient fairness obtained before maximum iterations were reached.\n",
      "----------Found Lambda 0.5000 with fairness 0.0000----------\n"
     ]
    },
    {
     "data": {
      "text/plain": [
       "GridSearchCV(cv=3, estimator=SearchFair(kernel='rbf', verbose=True), n_jobs=1,\n",
       "             param_grid={'gamma': [0.01, 0.05555555555555555, 0.1],\n",
       "                         'reg_beta': [0.0001, 0.001, 0.01]},\n",
       "             scoring='accuracy', verbose=2)"
      ]
     },
     "execution_count": 14,
     "metadata": {},
     "output_type": "execute_result"
    }
   ],
   "source": [
    "fairness_notion = 'DDP' # DDP = Demographic Parity, DEO = Equality of Opportunity. \n",
    "kernel = 'rbf' # 'linear', 'rbf'\n",
    "verbose = False\n",
    "\n",
    "cv_model_adult = SearchFair(kernel=kernel, fairness_notion=fairness_notion, verbose=verbose)\n",
    "\n",
    "# regularization parameter beta\n",
    "beta_params = [0.0001, 0.001, 0.01]\n",
    "cv_params = {'reg_beta': beta_params}\n",
    "\n",
    "if kernel == 'rbf':\n",
    "    n_features = x_data.shape[1]\n",
    "    default_width = 1/n_features\n",
    "    order_of_magn = np.floor(np.log10(default_width))\n",
    "    kernel_widths = [10**(order_of_magn), default_width, 10**(order_of_magn+1)]\n",
    "    cv_params['gamma'] = kernel_widths\n",
    "\n",
    "grid_clf = GridSearchCV(cv_model_adult,cv_params, cv=3, verbose=2, n_jobs=1, scoring='accuracy')\n",
    "grid_clf.fit(x_train, y_train, s_train=s_train)"
   ]
  },
  {
   "cell_type": "code",
   "execution_count": 15,
   "metadata": {},
   "outputs": [
    {
     "name": "stdout",
     "output_type": "stream",
     "text": [
      "----------Train----------\n",
      "Accuracy: 74.8000%\n",
      "DDP: 0.0000% DEO: 0.0000%\n",
      "----------Test----------\n",
      "Accuracy: 76.0984%\n",
      "DDP: 0.0000% DEO: 0.0000%\n"
     ]
    }
   ],
   "source": [
    "# Evaluate model\n",
    "print_clf_stats(grid_clf, x_train, x_test, y_train, y_test, s_train, s_test)"
   ]
  },
  {
   "cell_type": "code",
   "execution_count": null,
   "metadata": {},
   "outputs": [],
   "source": []
  }
 ],
 "metadata": {
  "kernelspec": {
   "display_name": "SearchFair",
   "language": "python",
   "name": "searchfair"
  },
  "language_info": {
   "codemirror_mode": {
    "name": "ipython",
    "version": 3
   },
   "file_extension": ".py",
   "mimetype": "text/x-python",
   "name": "python",
   "nbconvert_exporter": "python",
   "pygments_lexer": "ipython3",
   "version": "3.8.3"
  }
 },
 "nbformat": 4,
 "nbformat_minor": 4
}
