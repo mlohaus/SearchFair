{
 "cells": [
  {
   "cell_type": "markdown",
   "metadata": {},
   "source": [
    "# Fair Binary Classification with SearchFair on CelebA and Adult\n",
    "\n",
    "Here, we show how to use SearchFair on two datasets: CelebA and Adult"
   ]
  },
  {
   "cell_type": "markdown",
   "metadata": {},
   "source": [
    "## Imports\n",
    "\n",
    "We start by importing SearchFair from the installed package."
   ]
  },
  {
   "cell_type": "code",
   "execution_count": 1,
   "metadata": {},
   "outputs": [],
   "source": [
    "from searchfair import SearchFair"
   ]
  },
  {
   "cell_type": "markdown",
   "metadata": {},
   "source": [
    "Second, we load some necessary methods and numpy."
   ]
  },
  {
   "cell_type": "code",
   "execution_count": 2,
   "metadata": {},
   "outputs": [],
   "source": [
    "from sklearn.model_selection import train_test_split\n",
    "from sklearn.model_selection import GridSearchCV\n",
    "import numpy as np"
   ]
  },
  {
   "cell_type": "markdown",
   "metadata": {},
   "source": [
    "# The CelebA dataset\n",
    "\n",
    "On the Celebrity Faces dataset we are given descriptions of celebrity faces, with 40 binary attributes. Here, we use the Attribute 'Smiling' as the class label, and sex as the sensitive attribute. "
   ]
  },
  {
   "cell_type": "code",
   "execution_count": 3,
   "metadata": {},
   "outputs": [],
   "source": [
    "import get_real_data as get_data\n",
    "\n",
    "# Load Data\n",
    "x_data, y_data, s_data = get_data.get_celebA_data(load_data_size=None)\n",
    "# Train Test split. Here, we choose a small number to reduce running time.\n",
    "train_size = 1000\n",
    "x_train, x_test, y_train, y_test, s_train, s_test = train_test_split(x_data, y_data, s_data, train_size=train_size, shuffle=True)"
   ]
  },
  {
   "cell_type": "markdown",
   "metadata": {},
   "source": [
    "Here are some basic information about the dataset:"
   ]
  },
  {
   "cell_type": "code",
   "execution_count": 4,
   "metadata": {},
   "outputs": [
    {
     "name": "stdout",
     "output_type": "stream",
     "text": [
      "Total data points: 202599\n",
      "# non-protected examples: 118165\n",
      "# protected examples: 84434\n",
      "# non-protected examples in positive class: 63871 (54.1%)\n",
      "# protected examples in positive class: 33798 (40.0%)\n"
     ]
    }
   ],
   "source": [
    "import utils as ut\n",
    "ut.print_data_stats(s_data, y_data)"
   ]
  },
  {
   "cell_type": "code",
   "execution_count": 5,
   "metadata": {},
   "outputs": [],
   "source": [
    "\"\"\" Fix Parameters for Cross Validation\"\"\"\n",
    "\n",
    "fairness_notion = 'DDP' # DDP = Demographic Parity, DEO = Equality of Opportunity. \n",
    "kernel = 'linear'\n",
    "verbose=False\n",
    "\n",
    "# regularization parameter beta\n",
    "beta_params = [0.0001, 0.001]\n",
    "cv_params = {'reg_beta': beta_params}\n",
    "    "
   ]
  },
  {
   "cell_type": "markdown",
   "metadata": {},
   "source": [
    "Surpress warnings because problem might not be DPP but thats fine. not a problem"
   ]
  },
  {
   "cell_type": "code",
   "execution_count": 6,
   "metadata": {},
   "outputs": [
    {
     "name": "stdout",
     "output_type": "stream",
     "text": [
      "Fitting 2 folds for each of 2 candidates, totalling 4 fits\n",
      "[CV] reg_beta=0.0001 .................................................\n",
      "Is DPP?  True\n",
      "Is DCP?  True\n"
     ]
    },
    {
     "name": "stderr",
     "output_type": "stream",
     "text": [
      "[Parallel(n_jobs=1)]: Using backend SequentialBackend with 1 concurrent workers.\n"
     ]
    },
    {
     "name": "stdout",
     "output_type": "stream",
     "text": [
      "Is DPP?  False\n",
      "Is DCP?  True\n"
     ]
    },
    {
     "name": "stderr",
     "output_type": "stream",
     "text": [
      "/Users/mlohaus/anaconda3/envs/SearchFair/lib/python3.8/site-packages/cvxpy-1.1.1-py3.8-macosx-10.9-x86_64.egg/cvxpy/reductions/solvers/solving_chain.py:163: UserWarning: You are solving a parameterized problem that is not DPP. Because the problem is not DPP, subsequent solves will not be faster than the first one. For more information, see the documentation on Discplined Parametrized Programming, at\n",
      "\thttps://www.cvxpy.org/tutorial/advanced/index.html#disciplined-parametrized-programming\n",
      "  warnings.warn(dpp_error_msg)\n"
     ]
    },
    {
     "name": "stdout",
     "output_type": "stream",
     "text": [
      "Failure:Interrupted\n",
      "[CV] .................................. reg_beta=0.0001, total= 1.6min\n",
      "[CV] reg_beta=0.0001 .................................................\n",
      "Is DPP?  True\n",
      "Is DCP?  True\n"
     ]
    },
    {
     "name": "stderr",
     "output_type": "stream",
     "text": [
      "/Users/mlohaus/anaconda3/envs/SearchFair/lib/python3.8/site-packages/scikit_learn-0.23.1-py3.8-macosx-10.9-x86_64.egg/sklearn/model_selection/_validation.py:548: FitFailedWarning: Estimator fit failed. The score on this train-test partition for these parameters will be set to nan. Details: \n",
      "Traceback (most recent call last):\n",
      "  File \"/Users/mlohaus/anaconda3/envs/SearchFair/lib/python3.8/site-packages/scikit_learn-0.23.1-py3.8-macosx-10.9-x86_64.egg/sklearn/model_selection/_validation.py\", line 531, in _fit_and_score\n",
      "    estimator.fit(X_train, y_train, **fit_params)\n",
      "  File \"/Users/mlohaus/anaconda3/envs/SearchFair/lib/python3.8/site-packages/searchfair-0.0.1-py3.8.egg/searchfair/classifiers.py\", line 147, in fit\n",
      "    new_rd, new_alpha = learn(lbda_new, None)\n",
      "  File \"/Users/mlohaus/anaconda3/envs/SearchFair/lib/python3.8/site-packages/searchfair-0.0.1-py3.8.egg/searchfair/classifiers.py\", line 112, in learn\n",
      "    self.optimize()\n",
      "  File \"/Users/mlohaus/anaconda3/envs/SearchFair/lib/python3.8/site-packages/searchfair-0.0.1-py3.8.egg/searchfair/classifiers.py\", line 301, in optimize\n",
      "    self.prob.solve(solver=cp.SCS, max_iters=self.max_iter, verbose=self.verbose, warm_start=True)\n",
      "  File \"/Users/mlohaus/anaconda3/envs/SearchFair/lib/python3.8/site-packages/cvxpy-1.1.1-py3.8-macosx-10.9-x86_64.egg/cvxpy/problems/problem.py\", line 395, in solve\n",
      "    return solve_func(self, *args, **kwargs)\n",
      "  File \"/Users/mlohaus/anaconda3/envs/SearchFair/lib/python3.8/site-packages/cvxpy-1.1.1-py3.8-macosx-10.9-x86_64.egg/cvxpy/problems/problem.py\", line 747, in _solve\n",
      "    self.unpack_results(solution, solving_chain, inverse_data)\n",
      "  File \"/Users/mlohaus/anaconda3/envs/SearchFair/lib/python3.8/site-packages/cvxpy-1.1.1-py3.8-macosx-10.9-x86_64.egg/cvxpy/problems/problem.py\", line 1053, in unpack_results\n",
      "    raise error.SolverError(\n",
      "cvxpy.error.SolverError: Solver 'SCS' failed. Try another solver, or solve with verbose=True for more information.\n",
      "\n",
      "  warnings.warn(\"Estimator fit failed. The score on this train-test\"\n",
      "[Parallel(n_jobs=1)]: Done   1 out of   1 | elapsed:  1.6min remaining:    0.0s\n"
     ]
    },
    {
     "name": "stdout",
     "output_type": "stream",
     "text": [
      "Is DPP?  False\n",
      "Is DCP?  True\n"
     ]
    },
    {
     "name": "stderr",
     "output_type": "stream",
     "text": [
      "/Users/mlohaus/anaconda3/envs/SearchFair/lib/python3.8/site-packages/cvxpy-1.1.1-py3.8-macosx-10.9-x86_64.egg/cvxpy/reductions/solvers/solving_chain.py:163: UserWarning: You are solving a parameterized problem that is not DPP. Because the problem is not DPP, subsequent solves will not be faster than the first one. For more information, see the documentation on Discplined Parametrized Programming, at\n",
      "\thttps://www.cvxpy.org/tutorial/advanced/index.html#disciplined-parametrized-programming\n",
      "  warnings.warn(dpp_error_msg)\n"
     ]
    },
    {
     "name": "stdout",
     "output_type": "stream",
     "text": [
      "[CV] .................................. reg_beta=0.0001, total= 3.2min\n",
      "[CV] reg_beta=0.001 ..................................................\n",
      "Is DPP?  True\n",
      "Is DCP?  True\n",
      "Is DPP?  False\n",
      "Is DCP?  True\n"
     ]
    },
    {
     "name": "stderr",
     "output_type": "stream",
     "text": [
      "/Users/mlohaus/anaconda3/envs/SearchFair/lib/python3.8/site-packages/cvxpy-1.1.1-py3.8-macosx-10.9-x86_64.egg/cvxpy/reductions/solvers/solving_chain.py:163: UserWarning: You are solving a parameterized problem that is not DPP. Because the problem is not DPP, subsequent solves will not be faster than the first one. For more information, see the documentation on Discplined Parametrized Programming, at\n",
      "\thttps://www.cvxpy.org/tutorial/advanced/index.html#disciplined-parametrized-programming\n",
      "  warnings.warn(dpp_error_msg)\n"
     ]
    },
    {
     "name": "stdout",
     "output_type": "stream",
     "text": [
      "[CV] ................................... reg_beta=0.001, total= 2.5min\n",
      "[CV] reg_beta=0.001 ..................................................\n",
      "Is DPP?  True\n",
      "Is DCP?  True\n",
      "Is DPP?  False\n",
      "Is DCP?  True\n"
     ]
    },
    {
     "name": "stderr",
     "output_type": "stream",
     "text": [
      "/Users/mlohaus/anaconda3/envs/SearchFair/lib/python3.8/site-packages/cvxpy-1.1.1-py3.8-macosx-10.9-x86_64.egg/cvxpy/reductions/solvers/solving_chain.py:163: UserWarning: You are solving a parameterized problem that is not DPP. Because the problem is not DPP, subsequent solves will not be faster than the first one. For more information, see the documentation on Discplined Parametrized Programming, at\n",
      "\thttps://www.cvxpy.org/tutorial/advanced/index.html#disciplined-parametrized-programming\n",
      "  warnings.warn(dpp_error_msg)\n"
     ]
    },
    {
     "name": "stdout",
     "output_type": "stream",
     "text": [
      "[CV] ................................... reg_beta=0.001, total= 3.0min\n",
      "Is DPP?  True\n",
      "Is DCP?  True\n"
     ]
    },
    {
     "name": "stderr",
     "output_type": "stream",
     "text": [
      "[Parallel(n_jobs=1)]: Done   4 out of   4 | elapsed: 10.4min finished\n"
     ]
    },
    {
     "name": "stdout",
     "output_type": "stream",
     "text": [
      "Is DPP?  False\n",
      "Is DCP?  True\n"
     ]
    },
    {
     "name": "stderr",
     "output_type": "stream",
     "text": [
      "/Users/mlohaus/anaconda3/envs/SearchFair/lib/python3.8/site-packages/cvxpy-1.1.1-py3.8-macosx-10.9-x86_64.egg/cvxpy/reductions/solvers/solving_chain.py:163: UserWarning: You are solving a parameterized problem that is not DPP. Because the problem is not DPP, subsequent solves will not be faster than the first one. For more information, see the documentation on Discplined Parametrized Programming, at\n",
      "\thttps://www.cvxpy.org/tutorial/advanced/index.html#disciplined-parametrized-programming\n",
      "  warnings.warn(dpp_error_msg)\n"
     ]
    },
    {
     "data": {
      "text/plain": [
       "GridSearchCV(cv=2, estimator=SearchFair(), n_jobs=1,\n",
       "             param_grid={'reg_beta': [0.0001, 0.001]}, scoring='accuracy',\n",
       "             verbose=2)"
      ]
     },
     "execution_count": 6,
     "metadata": {},
     "output_type": "execute_result"
    }
   ],
   "source": [
    "model = SearchFair(fairness_regularizer='wu', wu_bound='hinge', kernel=kernel, fairness_notion=fairness_notion, verbose=verbose)\n",
    "\n",
    "#print(check_estimator(model))\n",
    "grid_clf = GridSearchCV(model,cv_params, cv=2, verbose=2, n_jobs=1, scoring='accuracy')\n",
    "grid_clf.fit(x_train, y_train, s_train=s_train)"
   ]
  },
  {
   "cell_type": "markdown",
   "metadata": {},
   "source": [
    "To print out the Accuracy and the fairness notions Demographic Parity and Equality of Opportuniy, we define the following function. "
   ]
  },
  {
   "cell_type": "code",
   "execution_count": 7,
   "metadata": {},
   "outputs": [],
   "source": [
    "def print_clf_stats(model, x_train, x_test, y_train, y_test, s_train, s_test):\n",
    "    train_acc = ut.get_accuracy(np.sign(model.predict(x_train)), y_train)\n",
    "    test_acc = ut.get_accuracy(np.sign(model.predict(x_test)), y_test)\n",
    "    test_DDP, test_DEO = ut.compute_fairness_measures(model.predict(x_test), y_test, s_test)\n",
    "    train_DDP, train_DEO = ut.compute_fairness_measures(model.predict(x_train), y_train, s_train)\n",
    "\n",
    "    print(10*'-'+\"Train\"+10*'-')\n",
    "    print(\"Accuracy: %0.4f%%\" % (train_acc * 100))\n",
    "    print(\"DDP: %0.4f%%\" % (train_DDP * 100), \"DEO: %0.4f%%\" % (train_DEO * 100))\n",
    "    print(10*'-'+\"Test\"+10*'-')\n",
    "    print(\"Accuracy: %0.4f%%\" % (test_acc * 100))\n",
    "    print(\"DDP: %0.4f%%\" % (test_DDP * 100), \"DEO: %0.4f%%\" % (test_DEO * 100))"
   ]
  },
  {
   "cell_type": "code",
   "execution_count": null,
   "metadata": {},
   "outputs": [],
   "source": [
    "Now lets see, if we obtained a fair classifier with respect to the fairness notions we specified. "
   ]
  },
  {
   "cell_type": "code",
   "execution_count": 8,
   "metadata": {},
   "outputs": [
    {
     "name": "stdout",
     "output_type": "stream",
     "text": [
      "----------Train----------\n",
      "Accuracy: 86.1667%\n",
      "DDP: 0.2830% DEO: -10.7086%\n",
      "----------Test----------\n",
      "Accuracy: 82.8128%\n",
      "DDP: 2.5627% DEO: -3.1142%\n"
     ]
    }
   ],
   "source": [
    "print_clf_stats(grid_clf, x_train, x_test, y_train, y_test, s_train, s_test)"
   ]
  },
  {
   "cell_type": "code",
   "execution_count": null,
   "metadata": {},
   "outputs": [],
   "source": [
    "if kernel == 'rbf':\n",
    "        n_features = x_data.shape[1]\n",
    "        default_width = 1/n_features\n",
    "        order_of_magn = np.floor(np.log10(default_width))\n",
    "        kernel_widths = [10**(order_of_magn), default_width, 10**(order_of_magn+1)]\n",
    "        cv_params['gamma'] = kernel_widths"
   ]
  },
  {
   "cell_type": "markdown",
   "metadata": {},
   "source": [
    "## Adult dataset\n",
    "\n",
    "In the fairness literature, the adult dataset is a very popular dataset. It contains US census data from 1994, where the class label indicates if the income is higher or lower than 50.000$. The binary sensitive attribute here, is the sex."
   ]
  },
  {
   "cell_type": "code",
   "execution_count": null,
   "metadata": {},
   "outputs": [],
   "source": [
    "# Load Data\n",
    "x_data, y_data, s_data = get_data.get_adult_data(load_data_size=None)\n",
    "# Train Test split. Here, we choose a small number to reduce running time.\n",
    "train_size = 1000\n",
    "x_train, x_test, y_train, y_test, s_train, s_test = train_test_split(x_data, y_data, s_data, train_size=train_size, shuffle=True)\n",
    "ut.print_data_stats(s_data, y_data)"
   ]
  },
  {
   "cell_type": "code",
   "execution_count": null,
   "metadata": {},
   "outputs": [],
   "source": [
    "\"\"\" Fix Parameters for Cross Validation\"\"\"\n",
    "\n",
    "fairness_notion='DDP'\n",
    "kernel = 'linear'\n",
    "verbose=False\n",
    "\n",
    "# regularization parameter beta\n",
    "beta_params = [0.0001, 0.001]\n",
    "cv_params = {'reg_beta': beta_params}"
   ]
  },
  {
   "cell_type": "code",
   "execution_count": null,
   "metadata": {},
   "outputs": [],
   "source": [
    "model = SearchFair(fairness_regularizer='wu', wu_bound='hinge', kernel=kernel, fairness_notion=fairness_notion, verbose=verbose)\n",
    "\n",
    "#print(check_estimator(model))\n",
    "grid_clf = GridSearchCV(model,cv_params, cv=3, verbose=2, n_jobs=1, scoring='accuracy')\n",
    "grid_clf.fit(x_train, y_train, s_train=s_train)"
   ]
  }
 ],
 "metadata": {
  "kernelspec": {
   "display_name": "SearchFair",
   "language": "python",
   "name": "searchfair"
  },
  "language_info": {
   "codemirror_mode": {
    "name": "ipython",
    "version": 3
   },
   "file_extension": ".py",
   "mimetype": "text/x-python",
   "name": "python",
   "nbconvert_exporter": "python",
   "pygments_lexer": "ipython3",
   "version": "3.8.3"
  }
 },
 "nbformat": 4,
 "nbformat_minor": 4
}
